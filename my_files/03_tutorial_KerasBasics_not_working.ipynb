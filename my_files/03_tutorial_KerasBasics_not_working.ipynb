{
 "cells": [
  {
   "attachments": {},
   "cell_type": "markdown",
   "metadata": {},
   "source": [
    "# Neural Networks with Keras: Minimal Example"
   ]
  },
  {
   "attachments": {},
   "cell_type": "markdown",
   "metadata": {},
   "source": [
    "(2)* Produce a simple network with keras that can distinguish a 1D plot of a random Gaussian from a 1D plot of a random Lorentzian! (or other classes of functions)"
   ]
  },
  {
   "attachments": {},
   "cell_type": "markdown",
   "metadata": {},
   "source": [
    "### Imports: numpy and matplotlib and keras"
   ]
  },
  {
   "cell_type": "code",
   "execution_count": 1,
   "metadata": {},
   "outputs": [
    {
     "name": "stderr",
     "output_type": "stream",
     "text": [
      "2023-06-09 09:17:15.015807: I tensorflow/core/platform/cpu_feature_guard.cc:193] This TensorFlow binary is optimized with oneAPI Deep Neural Network Library (oneDNN) to use the following CPU instructions in performance-critical operations:  SSE4.1 SSE4.2 AVX AVX2 FMA\n",
      "To enable them in other operations, rebuild TensorFlow with the appropriate compiler flags.\n"
     ]
    }
   ],
   "source": [
    "# keras:\n",
    "from tensorflow.keras import Sequential # Sequential is the neural-network class\n",
    "from tensorflow.keras.layers import Dense # Dense is the standard network layer\n",
    "\n",
    "# array math:\n",
    "import numpy as np\n",
    "\n",
    "# plotting:\n",
    "import matplotlib.pyplot as plt\n",
    "import matplotlib\n",
    "matplotlib.rcParams['figure.dpi']=90 # highres display"
   ]
  },
  {
   "cell_type": "code",
   "execution_count": 2,
   "metadata": {},
   "outputs": [
    {
     "name": "stderr",
     "output_type": "stream",
     "text": [
      "2023-06-09 09:17:28.320465: I tensorflow/core/platform/cpu_feature_guard.cc:193] This TensorFlow binary is optimized with oneAPI Deep Neural Network Library (oneDNN) to use the following CPU instructions in performance-critical operations:  SSE4.1 SSE4.2 AVX AVX2 FMA\n",
      "To enable them in other operations, rebuild TensorFlow with the appropriate compiler flags.\n"
     ]
    },
    {
     "name": "stdout",
     "output_type": "stream",
     "text": [
      "0.5405892133712769    \r"
     ]
    }
   ],
   "source": [
    "# run this cell multiple times to train the network better and better!\n",
    "\n",
    "# a simple 1D function:\n",
    "def my_lorentzian(x):\n",
    "    return(1/(1+x**2) ) # a wave packet...\n",
    "def my_gaussian(x):\n",
    "    return(np.exp(-x**2) ) # a wave packet...\n",
    "# def my_target(y):\n",
    "#     return( np.exp(y)/(1+y**2) ) # a wave packet...\n",
    "\n",
    "# training on a simple 1D function:\n",
    "\n",
    "N_points = 20\n",
    "training_batches=1000 # number of training batches\n",
    "batchsize=1 # samples per batch\n",
    "costs=np.zeros(training_batches) # array for storing costs\n",
    "\n",
    "# Define network:\n",
    "Net=Sequential() # creating a neural network!\n",
    "Net.add(Dense(30,input_shape=(N_points,),activation=\"sigmoid\")) # first hidden layer: #batchsize neurons (and #batchsize input neuron!)\n",
    "Net.add(Dense(10,activation=\"sigmoid\")) # second hidden layer: 10 neurons\n",
    "Net.add(Dense(2,activation=\"softmax\")) # output layer: 2 neuron \"softmax\"\n",
    "\n",
    "# Compile network: (randomly initialize weights, choose advanced optimizer, set up everything!)\n",
    "Net.compile(loss='categorical_crossentropy',\n",
    "              optimizer='adam') # adam is adaptive and works better than normal gradient descent\n",
    "\n",
    "# run through all training batches:\n",
    "for j in range(training_batches):\n",
    "    \n",
    "    x_in=np.random.uniform(low=-10.0,high=+10.0,size=(1,N_points)) # get randomly scattered points (uniform distribution)\n",
    "    \n",
    "    # Lorentzian training\n",
    "    y_in = my_lorentzian(x_in) # produce correct outputs (our target)\n",
    "    y_target = np.array([[1.0,0.0]])\n",
    "    costs[j]=Net.train_on_batch(y_in,y_target) # train on this batch of samples\n",
    "\n",
    "    # Gaussian training\n",
    "    y_in = my_gaussian(x_in) # produce correct outputs (our target)\n",
    "    y_target = np.array([[0.0,1.0]])\n",
    "    costs[j]=Net.train_on_batch(y_in,y_target) # train on this batch of samples\n",
    "    print(str(costs[j]),end=\"   \\r\") # print current cost function, overwrite line always\n"
   ]
  },
  {
   "cell_type": "code",
   "execution_count": 4,
   "metadata": {},
   "outputs": [
    {
     "data": {
      "text/plain": [
       "(1, 20)"
      ]
     },
     "execution_count": 4,
     "metadata": {},
     "output_type": "execute_result"
    }
   ],
   "source": [
    "np.shape(y_in)"
   ]
  },
  {
   "attachments": {},
   "cell_type": "markdown",
   "metadata": {},
   "source": [
    "# Old program"
   ]
  },
  {
   "cell_type": "code",
   "execution_count": null,
   "metadata": {},
   "outputs": [],
   "source": []
  }
 ],
 "metadata": {
  "kernelspec": {
   "display_name": "Python 3",
   "language": "python",
   "name": "python3"
  },
  "language_info": {
   "codemirror_mode": {
    "name": "ipython",
    "version": 3
   },
   "file_extension": ".py",
   "mimetype": "text/x-python",
   "name": "python",
   "nbconvert_exporter": "python",
   "pygments_lexer": "ipython3",
   "version": "3.8.16"
  }
 },
 "nbformat": 4,
 "nbformat_minor": 4
}
