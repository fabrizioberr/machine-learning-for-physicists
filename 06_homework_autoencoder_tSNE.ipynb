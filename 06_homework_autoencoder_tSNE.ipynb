{
 "cells": [
  {
   "attachments": {},
   "cell_type": "markdown",
   "metadata": {},
   "source": [
    "# Visualizing the autoencoder bottleneck via t-SNE"
   ]
  },
  {
   "attachments": {},
   "cell_type": "markdown",
   "metadata": {},
   "source": [
    "Example code for the lecture series \"Machine Learning for Physicists\" by Florian Marquardt\n",
    "\n",
    "Lecture 5, Homework (discussed in session 6)\n",
    "\n",
    "See https://machine-learning-for-physicists.org and the current course website linked there!"
   ]
  },
  {
   "attachments": {},
   "cell_type": "markdown",
   "metadata": {},
   "source": [
    "This notebook shows how to:\n",
    "- visualize the bottleneck of convolutional autoencoders using t-SNE\n",
    "\n",
    "This is built on the basis of the 04_tutorial_CNNtraining notebook on autoencoders.\n",
    "\n",
    "The networks are 2D convolutional networks, with the same input and output dimensions, and a bottleneck layer in the middle.\n",
    "\n",
    "You define the network and the type of images that are generated for training – this notebook will help you visualize the training evolution."
   ]
  },
  {
   "attachments": {},
   "cell_type": "markdown",
   "metadata": {},
   "source": [
    "### Imports: numpy and matplotlib and keras"
   ]
  },
  {
   "cell_type": "code",
   "execution_count": 1,
   "metadata": {},
   "outputs": [
    {
     "name": "stderr",
     "output_type": "stream",
     "text": [
      "2023-06-13 08:47:33.345658: I tensorflow/core/platform/cpu_feature_guard.cc:193] This TensorFlow binary is optimized with oneAPI Deep Neural Network Library (oneDNN) to use the following CPU instructions in performance-critical operations:  SSE4.1 SSE4.2 AVX AVX2 FMA\n",
      "To enable them in other operations, rebuild TensorFlow with the appropriate compiler flags.\n"
     ]
    }
   ],
   "source": [
    "# keras: Sequential is the neural-network class, Dense is\n",
    "# the standard network layer\n",
    "from tensorflow.keras import Sequential\n",
    "from tensorflow.keras import Model\n",
    "from tensorflow.keras.layers import Dense, Conv2D, AveragePooling2D, UpSampling2D\n",
    "from tensorflow.keras import optimizers # to choose more advanced optimizers like 'adam'\n",
    "\n",
    "import numpy as np\n",
    "\n",
    "import matplotlib.pyplot as plt # for plotting\n",
    "import matplotlib\n",
    "matplotlib.rcParams['figure.dpi']=90 # highres display\n",
    "\n",
    "# for subplots within subplots:\n",
    "from matplotlib import gridspec\n",
    "\n",
    "# for nice inset colorbars: (approach changed from lecture 1 'Visualization' notebook)\n",
    "from mpl_toolkits.axes_grid1.inset_locator import InsetPosition\n",
    "\n",
    "# for updating display \n",
    "# (very simple animation)\n",
    "from IPython.display import clear_output\n",
    "from time import sleep"
   ]
  },
  {
   "attachments": {},
   "cell_type": "markdown",
   "metadata": {},
   "source": [
    "The following python code for t-SNE is an original code by the inventor of t-SNE, Laurens van der Maaten. It is available on his website https://lvdmaaten.github.io/tsne/ . \n",
    "\n",
    "It is stated on that website: \"*You are free to use, modify, or redistribute this software in any way you want, but only for non-commercial purposes. The use of the software is at your own risk; the authors are not responsible for any damage as a result from errors in the software.*\""
   ]
  },
  {
   "cell_type": "code",
   "execution_count": 2,
   "metadata": {},
   "outputs": [],
   "source": [
    "#\n",
    "#  tsne.py\n",
    "#\n",
    "# Implementation of t-SNE in Python. The implementation was tested on Python\n",
    "# 2.7.10, and it requires a working installation of NumPy. The implementation\n",
    "# comes with an example on the MNIST dataset. In order to plot the\n",
    "# results of this example, a working installation of matplotlib is required.\n",
    "#\n",
    "# The example can be run by executing: `ipython tsne.py`\n",
    "#\n",
    "#\n",
    "#  Created by Laurens van der Maaten on 20-12-08.\n",
    "#  Copyright (c) 2008 Tilburg University. All rights reserved.\n",
    "\n",
    "# note by FM: For this notebook, the MNIST example was dropped\n",
    "\n",
    "import numpy as np\n",
    "\n",
    "def Hbeta(D=np.array([]), beta=1.0):\n",
    "    \"\"\"\n",
    "        Compute the perplexity and the P-row for a specific value of the\n",
    "        precision of a Gaussian distribution.\n",
    "    \"\"\"\n",
    "\n",
    "    # Compute P-row and corresponding perplexity\n",
    "    P = np.exp(-D.copy() * beta)\n",
    "    sumP = sum(P)\n",
    "    H = np.log(sumP) + beta * np.sum(D * P) / sumP\n",
    "    P = P / sumP\n",
    "    return H, P\n",
    "\n",
    "\n",
    "def x2p(X=np.array([]), tol=1e-5, perplexity=30.0):\n",
    "    \"\"\"\n",
    "        Performs a binary search to get P-values in such a way that each\n",
    "        conditional Gaussian has the same perplexity.\n",
    "    \"\"\"\n",
    "\n",
    "    # Initialize some variables\n",
    "    print(\"Computing pairwise distances...\")\n",
    "    (n, d) = X.shape\n",
    "    sum_X = np.sum(np.square(X), 1)\n",
    "    D = np.add(np.add(-2 * np.dot(X, X.T), sum_X).T, sum_X)\n",
    "    P = np.zeros((n, n))\n",
    "    beta = np.ones((n, 1))\n",
    "    logU = np.log(perplexity)\n",
    "\n",
    "    # Loop over all datapoints\n",
    "    for i in range(n):\n",
    "\n",
    "        # Print progress\n",
    "        if i % 500 == 0:\n",
    "            print(\"Computing P-values for point %d of %d...\" % (i, n))\n",
    "\n",
    "        # Compute the Gaussian kernel and entropy for the current precision\n",
    "        betamin = -np.inf\n",
    "        betamax = np.inf\n",
    "        Di = D[i, np.concatenate((np.r_[0:i], np.r_[i+1:n]))]\n",
    "        (H, thisP) = Hbeta(Di, beta[i])\n",
    "\n",
    "        # Evaluate whether the perplexity is within tolerance\n",
    "        Hdiff = H - logU\n",
    "        tries = 0\n",
    "        while np.abs(Hdiff) > tol and tries < 50:\n",
    "\n",
    "            # If not, increase or decrease precision\n",
    "            if Hdiff > 0:\n",
    "                betamin = beta[i].copy()\n",
    "                if betamax == np.inf or betamax == -np.inf:\n",
    "                    beta[i] = beta[i] * 2.\n",
    "                else:\n",
    "                    beta[i] = (beta[i] + betamax) / 2.\n",
    "            else:\n",
    "                betamax = beta[i].copy()\n",
    "                if betamin == np.inf or betamin == -np.inf:\n",
    "                    beta[i] = beta[i] / 2.\n",
    "                else:\n",
    "                    beta[i] = (beta[i] + betamin) / 2.\n",
    "\n",
    "            # Recompute the values\n",
    "            (H, thisP) = Hbeta(Di, beta[i])\n",
    "            Hdiff = H - logU\n",
    "            tries += 1\n",
    "\n",
    "        # Set the final row of P\n",
    "        P[i, np.concatenate((np.r_[0:i], np.r_[i+1:n]))] = thisP\n",
    "\n",
    "    # Return final P-matrix\n",
    "    print(\"Mean value of sigma: %f\" % np.mean(np.sqrt(1 / beta)))\n",
    "    return P\n",
    "\n",
    "\n",
    "def pca(X=np.array([]), no_dims=50):\n",
    "    \"\"\"\n",
    "        Runs PCA on the NxD array X in order to reduce its dimensionality to\n",
    "        no_dims dimensions.\n",
    "    \"\"\"\n",
    "\n",
    "    print(\"Preprocessing the data using PCA...\")\n",
    "    (n, d) = X.shape\n",
    "    X = X - np.tile(np.mean(X, 0), (n, 1))\n",
    "    (l, M) = np.linalg.eig(np.dot(X.T, X))\n",
    "    Y = np.dot(X, M[:, 0:no_dims])\n",
    "    return Y\n",
    "\n",
    "\n",
    "def tsne(X=np.array([]), no_dims=2, initial_dims=50, perplexity=30.0, \n",
    "         do_animation=False, animation_skip_steps=10, max_iter = 1000):\n",
    "    \"\"\"\n",
    "        Runs t-SNE on the dataset in the NxD array X to reduce its\n",
    "        dimensionality to no_dims dimensions. The syntaxis of the function is\n",
    "        `Y = tsne.tsne(X, no_dims, perplexity), where X is an NxD NumPy array.\n",
    "        \n",
    "        Added by F. Marquardt: do_animation==True will give you a graphical animation of\n",
    "        the progress, use animation_skip_steps to control how often this will\n",
    "        be plotted; max_iter controls the total number of gradient descent steps\n",
    "    \"\"\"\n",
    "\n",
    "    # Check inputs\n",
    "    if isinstance(no_dims, float):\n",
    "        print(\"Error: array X should have type float.\")\n",
    "        return -1\n",
    "    if round(no_dims) != no_dims:\n",
    "        print(\"Error: number of dimensions should be an integer.\")\n",
    "        return -1\n",
    "\n",
    "    # Initialize variables\n",
    "    X = pca(X, initial_dims).real\n",
    "    (n, d) = X.shape\n",
    "    initial_momentum = 0.5\n",
    "    final_momentum = 0.8\n",
    "    eta = 500\n",
    "    min_gain = 0.01\n",
    "    Y = np.random.randn(n, no_dims)\n",
    "    dY = np.zeros((n, no_dims))\n",
    "    iY = np.zeros((n, no_dims))\n",
    "    gains = np.ones((n, no_dims))\n",
    "\n",
    "    # Compute P-values\n",
    "    P = x2p(X, 1e-5, perplexity)\n",
    "    P = P + np.transpose(P)\n",
    "    P = P / np.sum(P)\n",
    "    P = P * 4.\t\t\t\t\t\t\t\t\t# early exaggeration\n",
    "    P = np.maximum(P, 1e-12)\n",
    "\n",
    "    if do_animation: # added by FM\n",
    "        costs=np.zeros(max_iter) # to store the cost values\n",
    "        \n",
    "    # Run iterations\n",
    "    for iter in range(max_iter):\n",
    "\n",
    "        # Compute pairwise affinities\n",
    "        sum_Y = np.sum(np.square(Y), 1)\n",
    "        num = -2. * np.dot(Y, Y.T)\n",
    "        num = 1. / (1. + np.add(np.add(num, sum_Y).T, sum_Y))\n",
    "        num[range(n), range(n)] = 0.\n",
    "        Q = num / np.sum(num)\n",
    "        Q = np.maximum(Q, 1e-12)\n",
    "\n",
    "        # Compute gradient\n",
    "        PQ = P - Q\n",
    "        for i in range(n):\n",
    "            dY[i, :] = np.sum(np.tile(PQ[:, i] * num[:, i], (no_dims, 1)).T * (Y[i, :] - Y), 0)\n",
    "\n",
    "        # Perform the update\n",
    "        if iter < 20:\n",
    "            momentum = initial_momentum\n",
    "        else:\n",
    "            momentum = final_momentum\n",
    "        gains = (gains + 0.2) * ((dY > 0.) != (iY > 0.)) + \\\n",
    "                (gains * 0.8) * ((dY > 0.) == (iY > 0.))\n",
    "        gains[gains < min_gain] = min_gain\n",
    "        iY = momentum * iY - eta * (gains * dY)\n",
    "        Y = Y + iY\n",
    "        Y = Y - np.tile(np.mean(Y, 0), (n, 1))\n",
    "\n",
    "        if not do_animation: # added by FM: do not print if we are animating!\n",
    "            # Compute current value of cost function\n",
    "            if (iter + 1) % 10 == 0:\n",
    "                C = np.sum(P * np.log(P / Q))\n",
    "                print(\"Iteration %d: error is %f\" % (iter + 1, C), end=\"           \\r\") # modified to overwrite line\n",
    "\n",
    "        # Stop lying about P-values\n",
    "        if iter == 100:\n",
    "            P = P / 4.\n",
    "            \n",
    "        if do_animation:  # added by FM\n",
    "            C = np.sum(P * np.log(P / Q)) # compute for every step, to store it in 'costs'\n",
    "            costs[iter]=C\n",
    "            if iter % animation_skip_steps==0:\n",
    "                clear_output(wait=True)\n",
    "                fig,ax=plt.subplots(ncols=2,nrows=1,figsize=(10,5))\n",
    "                ax[0].plot(costs)\n",
    "                ax[1].scatter(Y[:,0],Y[:,1],color=\"orange\")\n",
    "                plt.show()\n",
    "\n",
    "    # Return solution\n",
    "    return Y\n",
    "\n",
    "\n",
    "# if __name__ == \"__main__\":\n",
    "#     print(\"Run Y = tsne.tsne(X, no_dims, perplexity) to perform t-SNE on your dataset.\")\n",
    "#     print(\"Running example on 2,500 MNIST digits...\")\n",
    "#     X = np.loadtxt(\"mnist2500_X.txt\")\n",
    "#     labels = np.loadtxt(\"mnist2500_labels.txt\")\n",
    "#     Y = tsne(X, 2, 50, 20.0)\n",
    "#     pylab.scatter(Y[:, 0], Y[:, 1], 20, labels)\n",
    "#     pylab.show()\n",
    "\n"
   ]
  },
  {
   "attachments": {},
   "cell_type": "markdown",
   "metadata": {},
   "source": [
    "### Functions"
   ]
  },
  {
   "cell_type": "code",
   "execution_count": 3,
   "metadata": {},
   "outputs": [],
   "source": [
    "# visualization routines:\n",
    "\n",
    "def visualize_CNN_training(network,\n",
    "                               image_generator, resolution,\n",
    "                    steps=100, batchsize=10,\n",
    "                              visualize_nsteps=1, plot_img_pixels=3,\n",
    "                          plot_img_cols=10,\n",
    "                          plot_img_rows=5,\n",
    "                          show_intermediate_layers=True):\n",
    "    \"\"\"\n",
    "    Visualize the training of a (2D) convolutional neural network autoencoder.\n",
    "    \n",
    "    network is the network that you have defined using keras.\n",
    "    \n",
    "    'resolution' (called M below) is the image resolution in pixels\n",
    "    \n",
    "    image_generator is the name of a function that\n",
    "    is called like\n",
    "        image_generator(batchsize,x,y)\n",
    "    and which has to return an array of shape\n",
    "        [batchsize,M,M]\n",
    "    that contains randomly generated MxM images (e.g. randomly\n",
    "    placed circles or whatever you want to consider). The\n",
    "    MxM arrays x and y are already filled with coordinates between -1 and 1.\n",
    "    \n",
    "    An example that returns images of randomly placed circles:\n",
    "    \n",
    "    def my_generator(batchsize,x,y):\n",
    "        R=np.random.uniform(size=batchsize)\n",
    "        x0=np.random.uniform(size=batchsize,low=-1,high=1)\n",
    "        y0=np.random.uniform(size=batchsize,low=-1,high=1)\n",
    "        return( 1.0*((x[None,:,:]-x0[:,None,None])**2 + (y[None,:,:]-y0[:,None,None])**2 < R[:,None,None]**2) )\n",
    "\n",
    "   \n",
    "    steps is the number of training steps\n",
    "    \n",
    "    batchsize is the number of samples per training step\n",
    "            \n",
    "    visualize_n_steps>1 means skip some steps before\n",
    "    visualizing again (can speed up things)\n",
    "    \n",
    "    show_intermediate_layers==True means show the intermediate activations.\n",
    "    Otherwise show the weights!\n",
    "    \n",
    "    These are always shown in the upper left corner, as a tiled image,\n",
    "    whose properties are determined by:\n",
    "        plot_img_pixels: the resolution for each of the image tiles\n",
    "        plot_img_cols  : the number of columns of images\n",
    "        plot_img_rows  : the number of rows of images\n",
    "    Images (activations or weights) that are larger will be cut off.\n",
    "    If there are more images than fit, the rest will be left out.\n",
    "    The lowest layer starts in the bottom left. For activations, for\n",
    "    each layer one runs through all the channels, and then the images\n",
    "    for the next layer will start. Likewise for weights.\n",
    "    \"\"\"\n",
    "    global y_target # allow access to target from outside\n",
    "    \n",
    "    M=resolution\n",
    "        \n",
    "    vals=np.linspace(-1,1,M)\n",
    "    x,y=np.meshgrid(vals,vals)\n",
    "    \n",
    "    y_test=np.zeros([1,M,M,1])\n",
    "    y_test[:,:,:,0]=image_generator(1,x,y)\n",
    "    \n",
    "    y_in=np.zeros([batchsize,M,M,1])\n",
    "\n",
    "    costs=np.zeros(steps)\n",
    "    extractor=get_layer_activation_extractor(network)\n",
    "    \n",
    "    for j in range(steps):\n",
    "        # produce samples:\n",
    "        y_in[:,:,:,0]=image_generator(batchsize,x,y)\n",
    "        y_target=np.copy(y_in) # autoencoder wants to reproduce its input!\n",
    "        \n",
    "        # do one training step on this batch of samples:\n",
    "        costs[j]=network.train_on_batch(y_in,y_target)\n",
    "        \n",
    "        # now visualize the updated network:\n",
    "        if j%visualize_nsteps==0:\n",
    "            clear_output(wait=True) # for animation\n",
    "            if j>10:\n",
    "                cost_max=np.average(costs[0:j])*1.5\n",
    "            else:\n",
    "                cost_max=costs[0]\n",
    "            \n",
    "            # nice layout (needs matplotlib v3)\n",
    "            fig=plt.figure(constrained_layout=True,figsize=(8,4))\n",
    "            gs=fig.add_gridspec(ncols=8,nrows=4)\n",
    "            filter_plot=fig.add_subplot(gs[0:3,0:4])\n",
    "            cost_plot=fig.add_subplot(gs[3,0:4])\n",
    "            test_in_plot=fig.add_subplot(gs[0:2,4:6])\n",
    "            test_out_plot=fig.add_subplot(gs[0:2,6:8])\n",
    "\n",
    "            cost_plot.plot(costs)\n",
    "            cost_plot.set_ylim([0,cost_max])\n",
    "            \n",
    "            # test the network on a fixed test image!\n",
    "            y_test_out=network.predict_on_batch(y_test)\n",
    "            test_in_plot.imshow(y_test[0,:,:,0],origin='lower')\n",
    "            test_out_plot.imshow(y_test_out[0,:,:,0],origin='lower')\n",
    "            test_in_plot.axis('off')\n",
    "            test_out_plot.axis('off')\n",
    "            \n",
    "            if show_intermediate_layers:\n",
    "                features=extractor(y_test)\n",
    "                n1=0; n2=0\n",
    "                max_n1=plot_img_rows\n",
    "                max_n2=plot_img_cols\n",
    "                pix=plot_img_pixels\n",
    "                img=np.full([(pix+1)*max_n1,(pix+1)*max_n2],1.0)\n",
    "                for feature in features:\n",
    "                    for m in range(feature.shape[-1]):\n",
    "                        w=feature[0,:,:,m]\n",
    "                        ws=np.shape(w)\n",
    "                        if n1<max_n1 and n2<max_n2:\n",
    "                            W=np.zeros([pix,pix])\n",
    "                            if ws[0]<pix:\n",
    "                                W[0:ws[0],0:ws[0]]=w[:,:]\n",
    "                            else:\n",
    "                                W[:,:]=w[0:pix,0:pix]                            \n",
    "                            img[n1*(pix+1):(n1+1)*(pix+1)-1,n2*(pix+1):(n2+1)*(pix+1)-1]=W\n",
    "                            n2+=1\n",
    "                            if n2>=max_n2:\n",
    "                                n2=0\n",
    "                                n1+=1                \n",
    "            else: # rather, we want the weights! (filters)\n",
    "                n1=0; n2=0\n",
    "                max_n1=plot_img_rows\n",
    "                max_n2=plot_img_cols\n",
    "                pix=plot_img_pixels\n",
    "                img=np.zeros([(pix+1)*max_n1,(pix+1)*max_n2])\n",
    "                for ly in network.layers:\n",
    "                    w=ly.get_weights()\n",
    "                    if w!=[]:\n",
    "                        w=w[0]\n",
    "                        ws=np.shape(w)\n",
    "                        for k1 in range(ws[2]):\n",
    "                            for k2 in range(ws[3]):\n",
    "                                if n1<max_n1 and n2<max_n2:\n",
    "                                    W=np.zeros([pix,pix])\n",
    "                                    if ws[0]<pix:\n",
    "                                        W[0:ws[0],0:ws[0]]=w[:,:,k1,k2]\n",
    "                                    else:\n",
    "                                        W[:,:]=w[0:pix,0:pix,k1,k2]                            \n",
    "                                    img[n1*(pix+1):(n1+1)*(pix+1)-1,n2*(pix+1):(n2+1)*(pix+1)-1]=W\n",
    "                                    n2+=1\n",
    "                                    if n2>=max_n2:\n",
    "                                        n2=0\n",
    "                                        n1+=1\n",
    "            filter_plot.imshow(img,origin='lower')\n",
    "            filter_plot.axis('off')\n",
    "            plt.show()\n",
    "    print(\"Final cost value (averaged over last 50 batches): \", np.average(costs[-50:]))\n",
    "\n",
    "\n",
    "def print_layers(network, y_in):\n",
    "    \"\"\"\n",
    "    Call this on some test images y_in, to get a print-out of\n",
    "    the layer sizes. Shapes shown are (batchsize,pixels,pixels,channels).\n",
    "    After a call to the visualization routine, y_target will contain\n",
    "    the last set of training images, so you could feed those in here.\n",
    "    \"\"\"\n",
    "    layer_features=get_layer_activations(network,y_in)\n",
    "    for idx,feature in enumerate(layer_features):\n",
    "        s=np.shape(feature)\n",
    "        print(\"Layer \"+str(idx)+\": \"+str(s[1]*s[2]*s[3])+\" neurons / \", s)\n",
    "\n",
    "def get_layer_activation_extractor(network):\n",
    "    return(Model(inputs=network.inputs,\n",
    "                            outputs=[layer.output for layer in network.layers]))\n",
    "\n",
    "def get_layer_activations(network, y_in):\n",
    "    \"\"\"\n",
    "    Call this on some test images y_in, to get the intermediate \n",
    "    layer neuron values. These are returned in a list, with one\n",
    "    entry for each layer (the entries are arrays).\n",
    "    \"\"\"\n",
    "    extractor=get_layer_activation_extractor(network)\n",
    "    layer_features = extractor(y_in)\n",
    "    return(layer_features)\n"
   ]
  },
  {
   "attachments": {},
   "cell_type": "markdown",
   "metadata": {},
   "source": [
    "## Example: Reproducing both randomly placed squares AND rotated squares with the same autoencoder\n"
   ]
  },
  {
   "cell_type": "code",
   "execution_count": 4,
   "metadata": {},
   "outputs": [],
   "source": [
    "def my_generator_squares_rotated(batchsize,x,y):\n",
    "    global IsRotated\n",
    "    \n",
    "    R=np.random.uniform(size=batchsize,low=0.3,high=0.7)\n",
    "    x0=np.random.uniform(size=batchsize,low=-0.4,high=0.4)\n",
    "    y0=np.random.uniform(size=batchsize,low=-0.4,high=0.4)\n",
    "    # make half of them rotated squares\n",
    "    IsRotated=1.0*(np.random.uniform(size=batchsize)<0.5)\n",
    "    dx=x[None,:,:]-x0[:,None,None]\n",
    "    dy=y[None,:,:]-y0[:,None,None]\n",
    "    RotatedSquares=1.0*(np.abs(dx+dy)/np.sqrt(2)<R[:,None,None])*(np.abs(dx-dy)/np.sqrt(2)< R[:,None,None])\n",
    "    Squares=1.0*(np.abs(dx)<R[:,None,None])*(np.abs(dy)< R[:,None,None])\n",
    "    return( IsRotated[:,None,None]*RotatedSquares+(1-IsRotated[:,None,None])*Squares )\n",
    "\n"
   ]
  },
  {
   "cell_type": "code",
   "execution_count": 5,
   "metadata": {},
   "outputs": [
    {
     "data": {
      "image/png": "[encoded data removed]",
      "text/plain": [
       "<Figure size 900x90 with 10 Axes>"
      ]
     },
     "metadata": {},
     "output_type": "display_data"
    }
   ],
   "source": [
    "# make a few test input images\n",
    "batchsize=10\n",
    "M=27\n",
    "vals=np.linspace(-1,1,M)\n",
    "x,y=np.meshgrid(vals,vals)\n",
    "test_input=my_generator_squares_rotated(batchsize,x,y)\n",
    "\n",
    "fig,ax=plt.subplots(ncols=batchsize,nrows=1,figsize=(batchsize,1))\n",
    "for n in range(batchsize):\n",
    "    ax[n].imshow(test_input[n,:,:],origin='lower')\n",
    "    ax[n].axis('off')\n",
    "plt.show()"
   ]
  },
  {
   "cell_type": "code",
   "execution_count": 6,
   "metadata": {},
   "outputs": [
    {
     "name": "stderr",
     "output_type": "stream",
     "text": [
      "2023-06-13 08:47:57.528392: I tensorflow/core/platform/cpu_feature_guard.cc:193] This TensorFlow binary is optimized with oneAPI Deep Neural Network Library (oneDNN) to use the following CPU instructions in performance-critical operations:  SSE4.1 SSE4.2 AVX AVX2 FMA\n",
      "To enable them in other operations, rebuild TensorFlow with the appropriate compiler flags.\n"
     ]
    }
   ],
   "source": [
    "\n",
    "Net=Sequential()\n",
    "Net.add(Conv2D(20,5,input_shape=(None,None,1),\n",
    "               activation=\"relu\",padding='same'))\n",
    "Net.add(AveragePooling2D(pool_size=(3,3),padding='same')) # down\n",
    "Net.add(Conv2D(20,5,\n",
    "               activation=\"relu\",padding='same'))\n",
    "Net.add(AveragePooling2D(pool_size=(3,3),padding='same')) # down\n",
    "Net.add(Conv2D(1,3,\n",
    "               activation=\"relu\",padding='same'))\n",
    "Net.add(UpSampling2D(size=(3,3))) # up\n",
    "Net.add(Conv2D(20,5,\n",
    "               activation=\"relu\",padding='same'))\n",
    "Net.add(UpSampling2D(size=(3,3))) # up\n",
    "Net.add(Conv2D(20,5,\n",
    "               activation=\"relu\",padding='same'))\n",
    "Net.add(Conv2D(1,3,activation=\"linear\",padding='same'))\n",
    "Net.compile(loss='mean_squared_error',\n",
    "              optimizer='adam')"
   ]
  },
  {
   "cell_type": "code",
   "execution_count": 8,
   "metadata": {},
   "outputs": [
    {
     "data": {
      "image/png": "[encoded data removed]",
      "text/plain": [
       "<Figure size 720x360 with 4 Axes>"
      ]
     },
     "metadata": {},
     "output_type": "display_data"
    },
    {
     "name": "stdout",
     "output_type": "stream",
     "text": [
      "Final cost value (averaged over last 50 batches):  0.1572299474477768\n"
     ]
    }
   ],
   "source": [
    "visualize_CNN_training(Net, my_generator_squares_rotated, 9*3,\n",
    "                    steps=500, batchsize=30,\n",
    "                              visualize_nsteps=10,\n",
    "                      plot_img_cols=8, plot_img_rows=4,\n",
    "                      plot_img_pixels=27)"
   ]
  },
  {
   "cell_type": "code",
   "execution_count": 9,
   "metadata": {},
   "outputs": [
    {
     "name": "stdout",
     "output_type": "stream",
     "text": [
      "Layer 0: 14580 neurons /  (30, 27, 27, 20)\n",
      "Layer 1: 1620 neurons /  (30, 9, 9, 20)\n",
      "Layer 2: 1620 neurons /  (30, 9, 9, 20)\n",
      "Layer 3: 180 neurons /  (30, 3, 3, 20)\n",
      "Layer 4: 9 neurons /  (30, 3, 3, 1)\n",
      "Layer 5: 81 neurons /  (30, 9, 9, 1)\n",
      "Layer 6: 1620 neurons /  (30, 9, 9, 20)\n",
      "Layer 7: 14580 neurons /  (30, 27, 27, 20)\n",
      "Layer 8: 14580 neurons /  (30, 27, 27, 20)\n",
      "Layer 9: 729 neurons /  (30, 27, 27, 1)\n"
     ]
    }
   ],
   "source": [
    "print_layers(Net,y_target) # find out layer sizes for these training images!\n",
    "# y_target is a global variable that is initialized by the\n",
    "# training visualization routine, and it contains the last few training images."
   ]
  },
  {
   "attachments": {},
   "cell_type": "markdown",
   "metadata": {},
   "source": [
    "#### Create a few test input images"
   ]
  },
  {
   "cell_type": "code",
   "execution_count": 10,
   "metadata": {},
   "outputs": [],
   "source": [
    "# make a few test input images\n",
    "batchsize=4000 # 4000 will take a long time for tSNE, but gives nicer separation of the two categories!\n",
    "M=27\n",
    "vals=np.linspace(-1,1,M)\n",
    "x,y=np.meshgrid(vals,vals)\n",
    "test_input=my_generator_squares_rotated(batchsize,x,y)\n",
    "\n",
    "layer_activations=get_layer_activations(Net,test_input)\n"
   ]
  },
  {
   "cell_type": "code",
   "execution_count": 11,
   "metadata": {},
   "outputs": [
    {
     "data": {
      "text/plain": [
       "10"
      ]
     },
     "execution_count": 11,
     "metadata": {},
     "output_type": "execute_result"
    }
   ],
   "source": [
    "len(layer_activations) # should be number of layers"
   ]
  },
  {
   "cell_type": "code",
   "execution_count": 13,
   "metadata": {},
   "outputs": [
    {
     "data": {
      "text/plain": [
       "TensorShape([4000, 3, 3, 1])"
      ]
     },
     "execution_count": 13,
     "metadata": {},
     "output_type": "execute_result"
    }
   ],
   "source": [
    "np.shape(layer_activations[4]) # should be [batchsize,npixels,npixels,channels]"
   ]
  },
  {
   "attachments": {},
   "cell_type": "markdown",
   "metadata": {},
   "source": [
    "#### Make a scatterplot of two bottleneck neuron values"
   ]
  },
  {
   "cell_type": "code",
   "execution_count": 16,
   "metadata": {},
   "outputs": [
    {
     "data": {
      "image/png": "[encoded data removed]",
      "text/plain": [
       "<Figure size 576x432 with 1 Axes>"
      ]
     },
     "metadata": {},
     "output_type": "display_data"
    }
   ],
   "source": [
    "which=[[2,1],[1,2]]\n",
    "\n",
    "bottleneck=4\n",
    "activation=np.zeros([2,batchsize])\n",
    "for n in range(2): # extract TWO of the neuron values (which ones: determined by 'which')\n",
    "    activation[n,:]=layer_activations[bottleneck][:,which[n][0],which[n][1],0]\n",
    "\n",
    "plt.scatter(activation[0,:],activation[1,:],s=4,c=IsRotated)\n",
    "plt.show()\n"
   ]
  },
  {
   "cell_type": "code",
   "execution_count": 17,
   "metadata": {},
   "outputs": [
    {
     "data": {
      "image/png": "[encoded data removed]",
      "text/plain": [
       "<Figure size 900x450 with 2 Axes>"
      ]
     },
     "metadata": {},
     "output_type": "display_data"
    },
    {
     "ename": "KeyboardInterrupt",
     "evalue": "",
     "output_type": "error",
     "traceback": [
      "\u001b[0;31m---------------------------------------------------------------------------\u001b[0m",
      "\u001b[0;31mKeyboardInterrupt\u001b[0m                         Traceback (most recent call last)",
      "\u001b[1;32m/Users/fwb251/Documents/GitHub/machine-learning-for-physicists/06_homework_autoencoder_tSNE.ipynb Cell 22\u001b[0m in \u001b[0;36m<cell line: 6>\u001b[0;34m()\u001b[0m\n\u001b[1;32m      <a href='vscode-notebook-cell:/Users/fwb251/Documents/GitHub/machine-learning-for-physicists/06_homework_autoencoder_tSNE.ipynb#X30sZmlsZQ%3D%3D?line=3'>4</a>\u001b[0m  \u001b[39m# all neuron activations in the bottleneck layer:\u001b[39;00m\n\u001b[1;32m      <a href='vscode-notebook-cell:/Users/fwb251/Documents/GitHub/machine-learning-for-physicists/06_homework_autoencoder_tSNE.ipynb#X30sZmlsZQ%3D%3D?line=4'>5</a>\u001b[0m X\u001b[39m=\u001b[39mnp\u001b[39m.\u001b[39mreshape(layer_activations[bottleneck][:,:,:,\u001b[39m0\u001b[39m],[batchsize,shape[\u001b[39m1\u001b[39m]\u001b[39m*\u001b[39mshape[\u001b[39m2\u001b[39m]])\n\u001b[0;32m----> <a href='vscode-notebook-cell:/Users/fwb251/Documents/GitHub/machine-learning-for-physicists/06_homework_autoencoder_tSNE.ipynb#X30sZmlsZQ%3D%3D?line=5'>6</a>\u001b[0m Y\u001b[39m=\u001b[39mtsne(X, no_dims\u001b[39m=\u001b[39;49m\u001b[39m2\u001b[39;49m, initial_dims\u001b[39m=\u001b[39;49m\u001b[39m9\u001b[39;49m, perplexity\u001b[39m=\u001b[39;49m\u001b[39m20.0\u001b[39;49m, \n\u001b[1;32m      <a href='vscode-notebook-cell:/Users/fwb251/Documents/GitHub/machine-learning-for-physicists/06_homework_autoencoder_tSNE.ipynb#X30sZmlsZQ%3D%3D?line=6'>7</a>\u001b[0m        do_animation\u001b[39m=\u001b[39;49m\u001b[39mTrue\u001b[39;49;00m, animation_skip_steps\u001b[39m=\u001b[39;49m\u001b[39m10\u001b[39;49m, max_iter\u001b[39m=\u001b[39;49m\u001b[39m300\u001b[39;49m)\n\u001b[1;32m      <a href='vscode-notebook-cell:/Users/fwb251/Documents/GitHub/machine-learning-for-physicists/06_homework_autoencoder_tSNE.ipynb#X30sZmlsZQ%3D%3D?line=8'>9</a>\u001b[0m \u001b[39m# plot the points according to the t-SNE projection into 2D space\u001b[39;00m\n\u001b[1;32m     <a href='vscode-notebook-cell:/Users/fwb251/Documents/GitHub/machine-learning-for-physicists/06_homework_autoencoder_tSNE.ipynb#X30sZmlsZQ%3D%3D?line=9'>10</a>\u001b[0m \u001b[39m# color them according to the cluster they belong to!\u001b[39;00m\n\u001b[1;32m     <a href='vscode-notebook-cell:/Users/fwb251/Documents/GitHub/machine-learning-for-physicists/06_homework_autoencoder_tSNE.ipynb#X30sZmlsZQ%3D%3D?line=10'>11</a>\u001b[0m plt\u001b[39m.\u001b[39mfigure(figsize\u001b[39m=\u001b[39m(\u001b[39m8\u001b[39m,\u001b[39m8\u001b[39m))\n",
      "\u001b[1;32m/Users/fwb251/Documents/GitHub/machine-learning-for-physicists/06_homework_autoencoder_tSNE.ipynb Cell 22\u001b[0m in \u001b[0;36mtsne\u001b[0;34m(X, no_dims, initial_dims, perplexity, do_animation, animation_skip_steps, max_iter)\u001b[0m\n\u001b[1;32m    <a href='vscode-notebook-cell:/Users/fwb251/Documents/GitHub/machine-learning-for-physicists/06_homework_autoencoder_tSNE.ipynb#X30sZmlsZQ%3D%3D?line=160'>161</a>\u001b[0m PQ \u001b[39m=\u001b[39m P \u001b[39m-\u001b[39m Q\n\u001b[1;32m    <a href='vscode-notebook-cell:/Users/fwb251/Documents/GitHub/machine-learning-for-physicists/06_homework_autoencoder_tSNE.ipynb#X30sZmlsZQ%3D%3D?line=161'>162</a>\u001b[0m \u001b[39mfor\u001b[39;00m i \u001b[39min\u001b[39;00m \u001b[39mrange\u001b[39m(n):\n\u001b[0;32m--> <a href='vscode-notebook-cell:/Users/fwb251/Documents/GitHub/machine-learning-for-physicists/06_homework_autoencoder_tSNE.ipynb#X30sZmlsZQ%3D%3D?line=162'>163</a>\u001b[0m     dY[i, :] \u001b[39m=\u001b[39m np\u001b[39m.\u001b[39msum(np\u001b[39m.\u001b[39mtile(PQ[:, i] \u001b[39m*\u001b[39;49m num[:, i], (no_dims, \u001b[39m1\u001b[39m))\u001b[39m.\u001b[39mT \u001b[39m*\u001b[39m (Y[i, :] \u001b[39m-\u001b[39m Y), \u001b[39m0\u001b[39m)\n\u001b[1;32m    <a href='vscode-notebook-cell:/Users/fwb251/Documents/GitHub/machine-learning-for-physicists/06_homework_autoencoder_tSNE.ipynb#X30sZmlsZQ%3D%3D?line=164'>165</a>\u001b[0m \u001b[39m# Perform the update\u001b[39;00m\n\u001b[1;32m    <a href='vscode-notebook-cell:/Users/fwb251/Documents/GitHub/machine-learning-for-physicists/06_homework_autoencoder_tSNE.ipynb#X30sZmlsZQ%3D%3D?line=165'>166</a>\u001b[0m \u001b[39mif\u001b[39;00m \u001b[39miter\u001b[39m \u001b[39m<\u001b[39m \u001b[39m20\u001b[39m:\n",
      "\u001b[0;31mKeyboardInterrupt\u001b[0m: "
     ]
    }
   ],
   "source": [
    "# now apply t-SNE to reduce to two dimensions in a smart way!\n",
    "\n",
    "shape=np.shape(layer_activations[bottleneck])\n",
    " # all neuron activations in the bottleneck layer:\n",
    "X=np.reshape(layer_activations[bottleneck][:,:,:,0],[batchsize,shape[1]*shape[2]])\n",
    "Y=tsne(X, no_dims=2, initial_dims=9, perplexity=20.0, \n",
    "       do_animation=True, animation_skip_steps=10, max_iter=300)\n",
    "\n",
    "# plot the points according to the t-SNE projection into 2D space\n",
    "# color them according to the cluster they belong to!\n",
    "plt.figure(figsize=(8,8))\n",
    "plt.scatter(Y[:,0],Y[:,1],s=4,c=IsRotated)\n",
    "plt.show()"
   ]
  },
  {
   "attachments": {},
   "cell_type": "markdown",
   "metadata": {},
   "source": [
    "Comment: One clearly sees that the two types of objects get sorted into different parts of the tSNE map. Nevertheless, if they were not colored, you wouldn't know there are two categories."
   ]
  },
  {
   "cell_type": "code",
   "execution_count": null,
   "metadata": {},
   "outputs": [],
   "source": []
  }
 ],
 "metadata": {
  "kernelspec": {
   "display_name": "Python 3",
   "language": "python",
   "name": "python3"
  },
  "language_info": {
   "codemirror_mode": {
    "name": "ipython",
    "version": 3
   },
   "file_extension": ".py",
   "mimetype": "text/x-python",
   "name": "python",
   "nbconvert_exporter": "python",
   "pygments_lexer": "ipython3",
   "version": "3.8.16"
  }
 },
 "nbformat": 4,
 "nbformat_minor": 4
}
