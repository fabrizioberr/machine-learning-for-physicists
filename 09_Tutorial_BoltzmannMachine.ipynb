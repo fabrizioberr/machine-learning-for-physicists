{
 "cells": [
  {
   "attachments": {},
   "cell_type": "markdown",
   "metadata": {},
   "source": [
    "# Tutorial: Boltzmann Machines\n",
    "\n",
    "This shows how to train a Boltzmann machine, to sample from an observed probability distribution."
   ]
  },
  {
   "attachments": {},
   "cell_type": "markdown",
   "metadata": {},
   "source": [
    "Example code for the lecture series \"Machine Learning for Physicists\" by Florian Marquardt\n",
    "\n",
    "Lecture 9, Tutorial (this is discussed in session 9)\n",
    "\n",
    "See https://machine-learning-for-physicists.org and the current course website linked there!\n",
    "\n",
    "This notebook is distributed under the Attribution-ShareAlike 4.0 International (CC BY-SA 4.0) license:\n",
    "\n",
    "https://creativecommons.org/licenses/by-sa/4.0/"
   ]
  },
  {
   "attachments": {},
   "cell_type": "markdown",
   "metadata": {},
   "source": [
    "This notebook shows how to:\n",
    "- use a Boltzmann machine to sample from an observed high-dimensional probability distribution (e.g. produce images that look similar to observed training images)\n"
   ]
  },
  {
   "cell_type": "code",
   "execution_count": 7,
   "metadata": {},
   "outputs": [],
   "source": [
    "import numpy as np\n",
    "import matplotlib.pyplot as plt\n",
    "import matplotlib\n",
    "matplotlib.rcParams['figure.dpi']=90 # highres display\n",
    "\n",
    "from IPython.display import clear_output\n",
    "from time import sleep"
   ]
  },
  {
   "cell_type": "code",
   "execution_count": 8,
   "metadata": {},
   "outputs": [],
   "source": [
    "def BoltzmannStep(v,b,w):\n",
    "    \"\"\"\n",
    "    Perform a single step of the Markov chain,\n",
    "    going from visible units v to hidden units h,\n",
    "    according to biases b and weights w.\n",
    "    \n",
    "    z_j = b_j + sum_i v_i w_ij\n",
    "    \n",
    "    and P(h_j=1|v) = 1/(exp(-z_j)+1)\n",
    "    \n",
    "    Note: you can go from h to v, by inserting\n",
    "    instead of v the h, instead of b the a, and\n",
    "    instead of w the transpose of w\n",
    "    \"\"\"\n",
    "    batchsize=np.shape(v)[0]\n",
    "    hidden_dim=np.shape(w)[1]\n",
    "    z=b+np.dot(v,w)\n",
    "    P=1/(np.exp(-z)+1)\n",
    "    # now, the usual trick to obtain 0 or 1 according\n",
    "    # to a given probability distribution:\n",
    "    # just produce uniform (in [0,1]) random numbers and\n",
    "    # check whether they are below the cutoff given by P\n",
    "    p=np.random.uniform(size=[batchsize,hidden_dim])\n",
    "    return(np.array(p<=P,dtype='int'))\n",
    "    \n",
    "def BoltzmannSequence(v,a,b,w,drop_h_prime=False):\n",
    "    \"\"\"\n",
    "    Perform one sequence of steps v -> h -> v' -> h'\n",
    "    of a Boltzmann machine, with the given\n",
    "    weights w and biases a and b!\n",
    "    \n",
    "    All the arrays have a shape [batchsize,num_neurons]\n",
    "    (where num_neurons is num_visible for v and\n",
    "    num_hidden for h)\n",
    "    \n",
    "    You can set drop_h_prime to True if you want to\n",
    "    use this routine to generate arbitrarily long sequences\n",
    "    by calling it repeatedly (then don't use h')\n",
    "    Returns: v,h,v',h'\n",
    "    \"\"\"\n",
    "    h=BoltzmannStep(v,b,w)\n",
    "    v_prime=BoltzmannStep(h,a,np.transpose(w))\n",
    "    if not drop_h_prime:\n",
    "        h_prime=BoltzmannStep(v_prime,b,w)\n",
    "    else:\n",
    "        h_prime=np.zeros(np.shape(h))\n",
    "    return(v,h,v_prime,h_prime)\n",
    "\n",
    "def trainStep(v,a,b,w):\n",
    "    \"\"\"\n",
    "    Given a set of randomly selected training samples\n",
    "    v (of shape [batchsize,num_neurons_visible]), \n",
    "    and given biases a,b and weights w: update\n",
    "    those biases and weights according to the\n",
    "    contrastive-divergence update rules:\n",
    "    \n",
    "    delta w_ij = eta ( <v_i h_j> - <v'_i h'_j> )\n",
    "    delta a_i  = eta ( <v_i> - <v'_i>)\n",
    "    delta b_j  = eta ( <h_j> - <h'_j>)\n",
    "    \n",
    "    Returns delta_a, delta_b, delta_w, but without the eta factor!\n",
    "    It is up to you to update a,b,w!\n",
    "    \"\"\"\n",
    "    v,h,v_prime,h_prime=BoltzmannSequence(v,a,b,w)\n",
    "    return( np.average(v,axis=0)-np.average(v_prime,axis=0) ,\n",
    "            np.average(h,axis=0)-np.average(h_prime,axis=0) ,\n",
    "            np.average(v[:,:,None]*h[:,None,:],axis=0)-\n",
    "               np.average(v_prime[:,:,None]*h_prime[:,None,:],axis=0) )\n"
   ]
  },
  {
   "cell_type": "code",
   "execution_count": 9,
   "metadata": {},
   "outputs": [],
   "source": [
    "def produce_samples_random_segment(batchsize,num_visible,max_distance=3):\n",
    "    \"\"\"\n",
    "    Produce 'batchsize' samples, of length num_visible.\n",
    "    Returns array v of shape [batchsize,num_visible]\n",
    "    \n",
    "    This here: produces randomly placed segments of\n",
    "    size 2*max_distance.\n",
    "    \"\"\"\n",
    "    random_pos=num_visible*np.random.uniform(size=batchsize)\n",
    "    j=np.arange(0,num_visible)\n",
    "    \n",
    "    return( np.array( np.abs(j[None,:]-random_pos[:,None])<=max_distance, dtype='int' ) )"
   ]
  },
  {
   "cell_type": "code",
   "execution_count": 10,
   "metadata": {},
   "outputs": [
    {
     "data": {
      "image/png": "[encoded data removed]",
      "text/plain": [
       "<Figure size 900x270 with 1 Axes>"
      ]
     },
     "metadata": {},
     "output_type": "display_data"
    }
   ],
   "source": [
    "# Now: the training\n",
    "\n",
    "num_visible=20\n",
    "num_hidden=10\n",
    "batchsize=50\n",
    "eta=0.1\n",
    "nsteps=500\n",
    "skipsteps=10\n",
    "\n",
    "a=np.random.randn(num_visible)\n",
    "b=np.random.randn(num_hidden)\n",
    "w=np.random.randn(num_visible,num_hidden)\n",
    "\n",
    "test_samples=np.zeros([num_visible,nsteps])\n",
    "\n",
    "for j in range(nsteps):\n",
    "    v=produce_samples_random_segment(batchsize,num_visible)\n",
    "    da,db,dw=trainStep(v,a,b,w)\n",
    "    a+=eta*da\n",
    "    b+=eta*db\n",
    "    w+=eta*dw\n",
    "    test_samples[:,j]=v[0,:]\n",
    "    if j%skipsteps==0 or j==nsteps-1:\n",
    "        clear_output(wait=True)\n",
    "        plt.figure(figsize=(10,3))\n",
    "        plt.imshow(test_samples,origin='lower',aspect='auto',interpolation='none')\n",
    "        plt.axis('off')\n",
    "        plt.show()"
   ]
  },
  {
   "cell_type": "code",
   "execution_count": 18,
   "metadata": {},
   "outputs": [
    {
     "data": {
      "image/png": "[encoded data removed]",
      "text/plain": [
       "<Figure size 576x432 with 1 Axes>"
      ]
     },
     "metadata": {},
     "output_type": "display_data"
    }
   ],
   "source": [
    "# Now: visualize the typical samples generated (from some starting point)\n",
    "# run several times to continue this. It basically is a random walk\n",
    "# through the space of all possible configurations, hopefully according\n",
    "# to the probability distribution that has been trained!\n",
    "\n",
    "nsteps=100\n",
    "test_samples=np.zeros([num_visible,nsteps])\n",
    "\n",
    "v_prime=np.zeros(num_visible)\n",
    "h=np.zeros(num_hidden)\n",
    "h_prime=np.zeros(num_hidden)\n",
    "\n",
    "for j in range(nsteps):\n",
    "    v,h,v_prime,h_prime=BoltzmannSequence(v,a,b,w,drop_h_prime=True) # step from v via h to v_prime!\n",
    "    test_samples[:,j]=v[0,:]\n",
    "    v=np.copy(v_prime) # use the new v as a starting point for next step!\n",
    "    if j%skipsteps==0 or j==nsteps-1:\n",
    "        clear_output(wait=True)\n",
    "        plt.imshow(test_samples,origin='lower',interpolation='none')\n",
    "        plt.show()"
   ]
  },
  {
   "cell_type": "code",
   "execution_count": 19,
   "metadata": {},
   "outputs": [
    {
     "data": {
      "image/png": "[encoded data removed]",
      "text/plain": [
       "<Figure size 360x180 with 1 Axes>"
      ]
     },
     "metadata": {},
     "output_type": "display_data"
    }
   ],
   "source": [
    "# Now show the weight matrix\n",
    "\n",
    "plt.figure(figsize=(0.2*num_visible,0.2*num_hidden))\n",
    "plt.imshow(w,origin='lower',aspect='auto')\n",
    "plt.show()"
   ]
  },
  {
   "attachments": {},
   "cell_type": "markdown",
   "metadata": {},
   "source": [
    "# Tutorial: train on differently shaped samples (e.g. a bar with both random position and random width)\n",
    "\n",
    "...or two bars, located always at the same distance!"
   ]
  },
  {
   "cell_type": "code",
   "execution_count": 43,
   "metadata": {},
   "outputs": [],
   "source": [
    "def produce_samples_random_segment(batchsize,num_visible,max_distance=3):\n",
    "    \"\"\"\n",
    "    Produce 'batchsize' samples, of length num_visible.\n",
    "    Returns array v of shape [batchsize,num_visible]\n",
    "    \n",
    "    This here: produces randomly placed segments of\n",
    "    size 2*max_distance.\n",
    "    \"\"\"\n",
    "    random_pos = num_visible*np.random.uniform(size=batchsize)\n",
    "    random_pos_2 = random_pos + 9\n",
    "    j=np.arange(0,num_visible)\n",
    "    a_1 = np.array( np.abs(j[None,:]-random_pos[:,None])<=max_distance, dtype='int' )\n",
    "    a_2 = np.array( np.abs(j[None,:]-random_pos_2[:,None])<=max_distance, dtype='int' )\n",
    "    return( a_1+a_2 )"
   ]
  },
  {
   "cell_type": "code",
   "execution_count": 44,
   "metadata": {},
   "outputs": [
    {
     "data": {
      "image/png": "[encoded data removed]",
      "text/plain": [
       "<Figure size 900x270 with 1 Axes>"
      ]
     },
     "metadata": {},
     "output_type": "display_data"
    }
   ],
   "source": [
    "# Now: the training\n",
    "\n",
    "num_visible=20\n",
    "num_hidden=10\n",
    "batchsize=50\n",
    "eta=0.1\n",
    "nsteps=500\n",
    "skipsteps=10\n",
    "\n",
    "a=np.random.randn(num_visible)\n",
    "b=np.random.randn(num_hidden)\n",
    "w=np.random.randn(num_visible,num_hidden)\n",
    "\n",
    "test_samples=np.zeros([num_visible,nsteps])\n",
    "\n",
    "for j in range(nsteps):\n",
    "    v=produce_samples_random_segment(batchsize,num_visible)\n",
    "    da,db,dw=trainStep(v,a,b,w)\n",
    "    a+=eta*da\n",
    "    b+=eta*db\n",
    "    w+=eta*dw\n",
    "    test_samples[:,j]=v[0,:]\n",
    "    if j%skipsteps==0 or j==nsteps-1:\n",
    "        clear_output(wait=True)\n",
    "        plt.figure(figsize=(10,3))\n",
    "        plt.imshow(test_samples,origin='lower',aspect='auto',interpolation='none')\n",
    "        plt.axis('off')\n",
    "        plt.show()"
   ]
  },
  {
   "cell_type": "code",
   "execution_count": 45,
   "metadata": {},
   "outputs": [
    {
     "data": {
      "image/png": "[encoded data removed]",
      "text/plain": [
       "<Figure size 576x432 with 1 Axes>"
      ]
     },
     "metadata": {},
     "output_type": "display_data"
    }
   ],
   "source": [
    "# Now: visualize the typical samples generated (from some starting point)\n",
    "# run several times to continue this. It basically is a random walk\n",
    "# through the space of all possible configurations, hopefully according\n",
    "# to the probability distribution that has been trained!\n",
    "\n",
    "nsteps=100\n",
    "test_samples=np.zeros([num_visible,nsteps])\n",
    "\n",
    "v_prime=np.zeros(num_visible)\n",
    "h=np.zeros(num_hidden)\n",
    "h_prime=np.zeros(num_hidden)\n",
    "\n",
    "for j in range(nsteps):\n",
    "    v,h,v_prime,h_prime=BoltzmannSequence(v,a,b,w,drop_h_prime=True) # step from v via h to v_prime!\n",
    "    test_samples[:,j]=v[0,:]\n",
    "    v=np.copy(v_prime) # use the new v as a starting point for next step!\n",
    "    if j%skipsteps==0 or j==nsteps-1:\n",
    "        clear_output(wait=True)\n",
    "        plt.imshow(test_samples,origin='lower',interpolation='none')\n",
    "        plt.show()"
   ]
  },
  {
   "attachments": {},
   "cell_type": "markdown",
   "metadata": {},
   "source": [
    "# Homework: train on MNIST images!\n",
    "\n",
    "Here the visible units must be a flattened version of the images, something like\n",
    "\n",
    "v=np.reshape(image,[batchsize,widh*height])\n",
    "\n",
    "...if image is of shape [batchsize,width,height], meaning an array holding the pixel values for all images in a batch!\n",
    "\n",
    "...to plot the results, you would use \n",
    "\n",
    "np.reshape(v,[batchsize,width,height])\n",
    "\n",
    "to get back to the image format!"
   ]
  },
  {
   "cell_type": "code",
   "execution_count": 47,
   "metadata": {},
   "outputs": [
    {
     "name": "stderr",
     "output_type": "stream",
     "text": [
      "2023-06-16 11:05:35.625095: I tensorflow/core/platform/cpu_feature_guard.cc:193] This TensorFlow binary is optimized with oneAPI Deep Neural Network Library (oneDNN) to use the following CPU instructions in performance-critical operations:  SSE4.1 SSE4.2 AVX AVX2 FMA\n",
      "To enable them in other operations, rebuild TensorFlow with the appropriate compiler flags.\n"
     ]
    }
   ],
   "source": [
    "# Import keras library. Also import some of the layers, so we do not need to\n",
    "# write things like \"layers.Dense\", but can just write \"Dense\" instead\n",
    "from tensorflow.keras.models import Sequential\n",
    "from tensorflow.keras.layers import Dense\n",
    "from tensorflow.keras.layers import GaussianDropout\n",
    "import tensorflow.keras.optimizers as optimizers\n",
    "\n",
    "# Import the numpy library for matrix manipulations etc.\n",
    "\n",
    "#from numpy import *\n",
    "from numpy import array, zeros, exp, random, dot, shape, transpose, reshape, meshgrid, linspace, sqrt, sum, argmax, where\n",
    "\n",
    "# Set up the graphics by importing the matplotlib plotting library\n",
    "import matplotlib.pyplot as plt # for plotting\n",
    "import matplotlib\n",
    "matplotlib.rcParams['figure.dpi']=90 # highres display\n",
    "\n",
    "# Set up a random number generator with a fixed seed, so that\n",
    "# running this whole notebook repeatedly should always give\n",
    "# the same result (useful for debugging)\n",
    "rng = random.RandomState(23455)\n",
    "\n",
    "import time"
   ]
  },
  {
   "cell_type": "code",
   "execution_count": 48,
   "metadata": {},
   "outputs": [],
   "source": [
    "\"\"\"\n",
    "mnist_loader\n",
    "~~~~~~~~~~~~\n",
    "\n",
    "taken from Nielsen's online book:\n",
    "http://neuralnetworksanddeeplearning.com/chap1.html\n",
    "\n",
    "\n",
    "A library to load the MNIST image data.  For details of the data\n",
    "structures that are returned, see the doc strings for ``load_data``\n",
    "and ``load_data_wrapper``.  In practice, ``load_data_wrapper`` is the\n",
    "function usually called by our neural network code.\n",
    "\"\"\"\n",
    "\n",
    "#### Libraries\n",
    "# Standard library\n",
    "import pickle\n",
    "import gzip\n",
    "\n",
    "def load_data():\n",
    "    \"\"\"Return the MNIST data as a tuple containing the training data,\n",
    "    the validation data, and the test data.\n",
    "\n",
    "    The ``training_data`` is returned as a tuple with two entries.\n",
    "    The first entry contains the actual training images.  This is a\n",
    "    numpy ndarray with 50,000 entries.  Each entry is, in turn, a\n",
    "    numpy ndarray with 784 values, representing the 28 * 28 = 784\n",
    "    pixels in a single MNIST image.\n",
    "\n",
    "    The second entry in the ``training_data`` tuple is a numpy ndarray\n",
    "    containing 50,000 entries.  Those entries are just the digit\n",
    "    values (0...9) for the corresponding images contained in the first\n",
    "    entry of the tuple.\n",
    "\n",
    "    The ``validation_data`` and ``test_data`` are similar, except\n",
    "    each contains only 10,000 images.\n",
    "\n",
    "    This is a nice data format, but for use in neural networks it's\n",
    "    helpful to modify the format of the ``training_data`` a little.\n",
    "    That's done in the wrapper function ``load_data_wrapper()``, see\n",
    "    below.\n",
    "    \"\"\"\n",
    "    f = gzip.open('mnist.pkl.gz', 'rb')\n",
    "    training_data, validation_data, test_data = pickle.load(f,encoding='bytes')\n",
    "    f.close()\n",
    "    return (training_data, validation_data, test_data)\n",
    "\n",
    "def load_data_wrapper():\n",
    "    \"\"\"Return a tuple containing ``(training_data, validation_data,\n",
    "    test_data)``. Based on ``load_data``, but the format is more\n",
    "    convenient for use in our implementation of neural networks.\n",
    "\n",
    "    In particular, ``training_data`` is a list containing 50,000\n",
    "    2-tuples ``(x, y)``.  ``x`` is a 784-dimensional numpy.ndarray\n",
    "    containing the input image.  ``y`` is a 10-dimensional\n",
    "    numpy.ndarray representing the unit vector corresponding to the\n",
    "    correct digit for ``x``.\n",
    "\n",
    "    ``validation_data`` and ``test_data`` are lists containing 10,000\n",
    "    2-tuples ``(x, y)``.  In each case, ``x`` is a 784-dimensional\n",
    "    numpy.ndarry containing the input image, and ``y`` is the\n",
    "    corresponding classification, i.e., the digit values (integers)\n",
    "    corresponding to ``x``.\n",
    "\n",
    "    Obviously, this means we're using slightly different formats for\n",
    "    the training data and the validation / test data.  These formats\n",
    "    turn out to be the most convenient for use in our neural network\n",
    "    code.\"\"\"\n",
    "    \n",
    "    global training_inputs, training_results\n",
    "    global validation_inputs, validation_results\n",
    "    global test_inputs, test_results\n",
    "    global num_samples, numpixels, num_test_samples\n",
    "    \n",
    "    tr_d, va_d, te_d = load_data()\n",
    "    \n",
    "    num_samples=len(tr_d[0])\n",
    "    training_inputs=zeros([num_samples,numpixels])\n",
    "    training_results=zeros([num_samples,10])    \n",
    "    for j in range(num_samples):\n",
    "        training_inputs[j,:] = reshape(tr_d[0][j], (numpixels))\n",
    "        training_results[j,:] = vectorized_result(tr_d[1][j])\n",
    "#    validation_inputs = [reshape(x, (numpixels)) for x in va_d[0]]\n",
    "#    validation_results = [vectorized_result(y) for y in va_d[1]]\n",
    "\n",
    "    num_test_samples=len(te_d[0])\n",
    "    test_inputs=zeros([num_test_samples,numpixels])\n",
    "    test_results=zeros([num_test_samples,10])    \n",
    "    for j in range(num_test_samples):\n",
    "        test_inputs[j,:] = reshape(te_d[0][j], (numpixels))\n",
    "        test_results[j,:] = vectorized_result(te_d[1][j])\n",
    "\n",
    "def vectorized_result(j):\n",
    "    \"\"\"Return a 10-dimensional unit vector with a 1.0 in the jth\n",
    "    position and zeroes elsewhere.  This is used to convert a digit\n",
    "    (0...9) into a corresponding desired output from the neural\n",
    "    network.\"\"\"\n",
    "    e = zeros((10))\n",
    "    e[j] = 1.0\n",
    "    return e"
   ]
  },
  {
   "cell_type": "code",
   "execution_count": 54,
   "metadata": {},
   "outputs": [],
   "source": [
    "numpixels=784\n",
    "load_data_wrapper() # load all the MNIST images"
   ]
  },
  {
   "cell_type": "code",
   "execution_count": 55,
   "metadata": {},
   "outputs": [
    {
     "data": {
      "text/plain": [
       "(50000, 784)"
      ]
     },
     "execution_count": 55,
     "metadata": {},
     "output_type": "execute_result"
    }
   ],
   "source": [
    "shape(training_inputs)"
   ]
  },
  {
   "cell_type": "code",
   "execution_count": 74,
   "metadata": {},
   "outputs": [],
   "source": [
    "psi=training_inputs-sum(training_inputs,axis=0)/num_samples"
   ]
  },
  {
   "cell_type": "code",
   "execution_count": 83,
   "metadata": {},
   "outputs": [
    {
     "data": {
      "image/png": "[encoded data removed]",
      "text/plain": [
       "<Figure size 270x270 with 1 Axes>"
      ]
     },
     "metadata": {},
     "output_type": "display_data"
    }
   ],
   "source": [
    "# Now: the training\n",
    "\n",
    "num_visible=784\n",
    "num_hidden=100\n",
    "batchsize=50\n",
    "eta=0.1\n",
    "nsteps=500\n",
    "skipsteps=10\n",
    "\n",
    "a=np.random.randn(num_visible)\n",
    "b=np.random.randn(num_hidden)\n",
    "w=np.random.randn(num_visible,num_hidden)\n",
    "\n",
    "test_samples=np.zeros([num_visible,nsteps])\n",
    "\n",
    "for j in range(nsteps):\n",
    "    v= training_inputs[j*batchsize:(j+1)*batchsize,:]\n",
    "    da,db,dw=trainStep(v,a,b,w)\n",
    "    a+=eta*da\n",
    "    b+=eta*db\n",
    "    w+=eta*dw\n",
    "    test_samples[:,j]=v[0,:]\n",
    "    if j%skipsteps==0 or j==nsteps-1:\n",
    "        clear_output(wait=True)\n",
    "        plt.figure(figsize=(3,3))\n",
    "        plt.imshow(np.reshape(test_samples[:,j],[28,28]),origin='upper',aspect='auto',interpolation='none')\n",
    "        plt.axis('off')\n",
    "        plt.show()"
   ]
  },
  {
   "cell_type": "code",
   "execution_count": 84,
   "metadata": {},
   "outputs": [
    {
     "data": {
      "image/png": "[encoded data removed]",
      "text/plain": [
       "<Figure size 576x432 with 1 Axes>"
      ]
     },
     "metadata": {},
     "output_type": "display_data"
    }
   ],
   "source": [
    "# Now: visualize the typical samples generated (from some starting point)\n",
    "# run several times to continue this. It basically is a random walk\n",
    "# through the space of all possible configurations, hopefully according\n",
    "# to the probability distribution that has been trained!\n",
    "\n",
    "nsteps=300\n",
    "test_samples=np.zeros([num_visible,nsteps])\n",
    "\n",
    "v_prime=np.zeros(num_visible)\n",
    "h=np.zeros(num_hidden)\n",
    "h_prime=np.zeros(num_hidden)\n",
    "\n",
    "for j in range(nsteps):\n",
    "    v,h,v_prime,h_prime=BoltzmannSequence(v,a,b,w,drop_h_prime=True) # step from v via h to v_prime!\n",
    "    test_samples[:,j]=v[0,:]\n",
    "    v=np.copy(v_prime) # use the new v as a starting point for next step!\n",
    "    if j%skipsteps==0 or j==nsteps-1:\n",
    "        clear_output(wait=True)\n",
    "        plt.imshow(np.reshape(test_samples[:,j],[28,28]),origin='upper',interpolation='none')\n",
    "        plt.show()"
   ]
  }
 ],
 "metadata": {
  "kernelspec": {
   "display_name": "Python 3",
   "language": "python",
   "name": "python3"
  },
  "language_info": {
   "codemirror_mode": {
    "name": "ipython",
    "version": 3
   },
   "file_extension": ".py",
   "mimetype": "text/x-python",
   "name": "python",
   "nbconvert_exporter": "python",
   "pygments_lexer": "ipython3",
   "version": "3.8.16"
  }
 },
 "nbformat": 4,
 "nbformat_minor": 4
}
